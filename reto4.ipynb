{
 "cells": [
  {
   "cell_type": "code",
   "execution_count": null,
   "metadata": {},
   "outputs": [],
   "source": [
    "n : int \n",
    "n = int(input(\"Ingrese un número entero: \")) # Conversión a entero\n",
    "\n",
    "if n == 97 or n == 101 or n == 105 or n == 111 or n == 117:\n",
    "  print( (n), \" sí es una vocal minúscula.\")\n",
    "else:\n",
    "  print( (n), \" no es una vocal minúscula.\")\n",
    "\n",
    "print(\"El número \", (n), \" corresponde al código ASCII: \", chr(n))"
   ]
  },
  {
   "cell_type": "code",
   "execution_count": null,
   "metadata": {},
   "outputs": [],
   "source": [
    "a : str\n",
    "b : int\n",
    "\n",
    "a = input(\"Ingrese un caracter: \")\n",
    "b = ord(a)\n",
    "\n",
    "if b%2 == 0:\n",
    "  print(\"El código ASCII de la letra \", (a), \" es \", (b), \" sí es par.\")\n",
    "else: \n",
    "  print(\"El código ASCII de la letra \", (a), \" es \", (b), \" no es par.\")"
   ]
  },
  {
   "cell_type": "code",
   "execution_count": null,
   "metadata": {},
   "outputs": [],
   "source": [
    "a : str\n",
    "b : int\n",
    "\n",
    "a = input(\"Ingrese un caracter: \")\n",
    "b = ord(a)\n",
    "\n",
    "if b >= 48 and b <= 57:\n",
    "  print(\"El caracter \", (a), \" sí es un dígito.\")\n",
    "else: \n",
    "  print(\"El caracter \", (a), \" no es un dígito.\")"
   ]
  },
  {
   "cell_type": "code",
   "execution_count": null,
   "metadata": {},
   "outputs": [],
   "source": [
    "x : float\n",
    "x = float(input(\"Ingrese un número: \"))\n",
    "\n",
    "if x > 0:\n",
    "  print(\"El número \", x, \" es positivo.\")\n",
    "  \n",
    "elif x < 0:\n",
    "  print(\"El número \", x, \" es negativo.\")\n",
    "  \n",
    "elif x == 0:\n",
    "  print(\"El número \", x, \" es el neutro para la suma.\")"
   ]
  },
  {
   "cell_type": "code",
   "execution_count": null,
   "metadata": {},
   "outputs": [],
   "source": [
    "x : float\n",
    "y : float\n",
    "r : float\n",
    "\n",
    "x = float(input(\"Ingrese cordenada X del centro del círculo: \"))\n",
    "y = float(input(\"Ingrese cordenada Y del centro del circulo: \"))\n",
    "r = float(input(\"Ingrese el radio del círculo: \"))\n",
    "\n",
    "x2 = float(input(\"Ingrese coordena X del punto: \"))\n",
    "y2 = float(input(\"Ingrese coordena Y del punto: \"))\n",
    "\n",
    "a = ((x2 - x) ** 2)\n",
    "b = ((y2 - y) ** 2)\n",
    "c = ((a + b) ** 0.5)\n",
    "\n",
    "if c < r or c == r:\n",
    "  print(\"La coordenada \", x2, \",\" ,y2, \" sí pertenece al interior del círculo.\")\n",
    "else:\n",
    "  print(\"La coordenada \", x2, \",\" ,y2, \" no pertenece al interior del círculo.\")\n"
   ]
  },
  {
   "cell_type": "code",
   "execution_count": null,
   "metadata": {},
   "outputs": [],
   "source": [
    "a : float\n",
    "b : float\n",
    "c : float\n",
    "\n",
    "a = float(input(\"Ingrese la primera longitud: \"))\n",
    "b = float(input(\"Ingrese la segunda longitud: \"))\n",
    "c = float(input(\"Ingrese la tercera longitud: \"))\n",
    "\n",
    "if a + b > c and a + c > b and b + c > a: \n",
    "  print(\"Con las 3 longitudes sí es posible formar un triangulo.\")\n",
    "else:\n",
    "  print(\"Con las 3 longitudes no es posible formar un triangulo.\")"
   ]
  }
 ],
 "metadata": {
  "language_info": {
   "name": "python"
  },
  "orig_nbformat": 4
 },
 "nbformat": 4,
 "nbformat_minor": 2
}
